{
 "cells": [
  {
   "cell_type": "code",
   "execution_count": null,
   "id": "d91c6f54",
   "metadata": {},
   "outputs": [],
   "source": [
    "# day1\n"
   ]
  },
  {
   "cell_type": "code",
   "execution_count": null,
   "id": "86b92039",
   "metadata": {},
   "outputs": [],
   "source": [
    "import sys\n",
    "import matplotlib.pyplot as plt\n",
    "from tensorflow import keras # 케라스 호출 \n",
    "from tensorflow.keras import layers # 케라스 내부 레이어 호출\n",
    "from tensorflow.keras.models import Sequential # 케라스 모델 시퀸셜 바로 호출\n",
    "from tensorflow.keras.layers import Dense # 케라스 레이어 덴스 바로 호출\n",
    "from tensorflow.keras.datasets import mnist # mnist 데이터셋(숫자훈련 데이터셋)\n",
    "from tensorflow.keras.utils import to_categorical # 유틸을 카테고리로 변경하는 모듈\n",
    "from tensorflow.keras.callbacks import ModelCheckpoint, EarlyStopping # 모델 체크포인트, 조기중단 클래스\n",
    "\n"
   ]
  },
  {
   "cell_type": "code",
   "execution_count": null,
   "id": "5010f830",
   "metadata": {},
   "outputs": [],
   "source": [
    "# DNN 모델 정의\n",
    "model = keras.Sequential([layers.Dense(units=1,input_shape=[3])]) \n",
    "# keras.Sequential() : 케라스에서 신경망을 구축하는데 사용되는 클래스. \n",
    "# layers.Dense : 완전연결신경망(fully connected layers)으로 설정\n",
    "# units=1 : 출력값\n",
    "# input_shape=[3] : 3개의 특성 투입\n",
    "\n",
    "model = keras.Sequential([                                 # 신경망 구축 \n",
    "layers.Dense(units=4, input_shape=[2], activation='relu'), # 출력값 = 4, 입력값 = 2, 활성화함수 = 렐루 \n",
    "layers.Dense(units=3, activation='relu'),                  # 출력값 = 3, 활성화함수 = 렐루\n",
    "layers.Dense(units=1, activation='sigmoid')                # 출력값 = 1, 활성화함수 = 시그모이드\n",
    "])\n",
    "# 활성함수: 렐루(0~1까지의 숫자를 출력하며 널리 쓰임)\n",
    "#           시그모이드(-1~1까지의 숫자를 출력하며 최종본 출력때 쓰임)\n",
    "#           소프트맥스(원핫인코딩을 한 경우 자주 사용됨)\n",
    "\n",
    "model.compile(optimizer='adam',loss='mae') # 모델을 재구성한다. 옵티마이저 : 아담, 손실함수 mae (mse나 rmse도 가능)\n",
    "# 옵티마이저 종류 : 그레디언트 디센트 알고리즘, 아담 옵티마이저, rms prof, momentum등이 존재.\n",
    "model.summary() # 현재 만들어진 모델의 구조를 나타낸다. "
   ]
  },
  {
   "cell_type": "code",
   "execution_count": null,
   "id": "6e5b4cbf",
   "metadata": {},
   "outputs": [],
   "source": [
    "# 케라스 모델. 추가형식\n",
    "model = Sequential() #모델 정의\n",
    "model.add(Dense(12,input_dim=8,activation='relu', name='Dense_1')) # 만들어진 모델에 끼워서 추가하기 \n",
    "model.add(Dense(8,activation='relu'))                              # dim은 바로 숫자를 쓰게 해준다. \n",
    "model.add(Dense(1,activation='sigmoid')                            # 이름을 추가할 수 있다. \n",
    "\n",
    "model.compile(optimizer='adam',loss='binary_crossentropy',metrics=['accuracy'])# 모델 재구성\n",
    "          # 옵티마이저 : 아담, 손실함수: 이진교차엔트로피 ,매트릭스 : 정확도 중심\n",
    "# 손실함수 설정 \n",
    "# 결과가 0 또는 1로 나오는 경우 : 이진교차 엔트로피 'binary_crossentropy'\n",
    "# 결과가 연속형 형식으로 나오는 경우(가격 등) : 평균제곱오차 'mean_squared_error'"
   ]
  },
  {
   "cell_type": "code",
   "execution_count": null,
   "id": "68595eb9",
   "metadata": {},
   "outputs": [],
   "source": [
    "# 케라스 모델 사용하기 \n",
    "model.fit(x_train, y_train, epochs=10,batch_size=5) # 모델적용 : \n",
    "    # 훈련데이터, 답지, 에폭스 : 반복훈련횟수, 배치사이즈(한번에 투입하는 사이즈)\n",
    "model.predict(np.array([[5.9,3.0,5.1,1.8]])) # 모델에 답 투입하여 샘플 1개 확인하기.(인풋에 맞게 투입)\n"
   ]
  },
  {
   "cell_type": "code",
   "execution_count": null,
   "id": "a752aa0d",
   "metadata": {},
   "outputs": [],
   "source": [
    "# 모델 컴파일 / 그래프로 보기\n",
    "model = Sequential()\n",
    "model.add(Dense(30,  input_dim=12, activation='relu'))\n",
    "model.add(Dense(12, activation='relu'))                \n",
    "model.add(Dense(8, activation='relu'))                 \n",
    "model.add(Dense(1, activation='sigmoid'))  \n",
    "model.compile(loss='binary_crossentropy', optimizer='adam', metrics=['accuracy'])\n",
    "history=model.fit(X_train, y_train, epochs=50, batch_size=500, validation_split=0.25) \n",
    "# 히스토리 항목에 저장 / 검증 분할 0.25\n",
    "hist_df=pd.DataFrame(history.history)      \n",
    "# 히스토리 항목 데이터프레임으로 변경"
   ]
  },
  {
   "cell_type": "code",
   "execution_count": null,
   "id": "ff9211b3",
   "metadata": {},
   "outputs": [],
   "source": [
    "y_vloss=hist_df['val_loss']                                                 # val_loss 항목을 y축 밸류로스 로 설정\n",
    "y_loss=hist_df['loss']                                                      # loss항목을 y축 로스 항목으로 설정\n",
    "x_len = np.arange(len(y_loss))                                              # y로스의 길이만큼 x의 길이로 설정\n",
    "plt.plot(x_len, y_vloss, \"o\", c=\"red\", markersize=2, label='Testset_loss')  # x의 길이와 y축의 밸류로스(테스트셋)을 빨간색으로 표시\n",
    "plt.plot(x_len, y_loss, \"o\", c=\"blue\", markersize=2, label='Trainset_loss') # x의 길이와 y축의 로스(훈련셋)을 파란색으로 표시\n",
    "\n",
    "plt.legend(loc='upper right')                                               # 플랏리 보여주기\n",
    "plt.xlabel('epoch')                                                         # 플랏리x라벨은 에폭\n",
    "plt.ylabel('loss')                                                          # 플랏리 y라벨은 로스\n",
    "plt.show()                                                                  # 그래프 보기"
   ]
  },
  {
   "cell_type": "code",
   "execution_count": null,
   "id": "b13cf8b2",
   "metadata": {},
   "outputs": [],
   "source": [
    "# 학습 자동중단\n",
    "from tensorflow.keras.callbacks import ModelCheckpoint, EarlyStopping # 모델 체크포인트, 조기중단 클래스\n",
    "early_stopping_callback = EarlyStopping(                              # 자동중단기능\n",
    "    monitor='val_loss', patience=20)                                  # 모니터링 : 밸류로스, 대기횟수 20\n",
    "modelpath=\"./data/model/Ch14-4-bestmodel.hdf5\"                        # 모델저장위치 확인\n",
    "checkpointer = ModelCheckpoint(                                       # 모델 저장 체크포인트\n",
    "    filepath=modelpath, monitor='val_loss',                           # 파일저장위치, 모니터링:밸류로스\n",
    "    verbose=0, save_best_only=True)                                   # 알림기능 끔, 최고상태에서 저장"
   ]
  },
  {
   "cell_type": "code",
   "execution_count": null,
   "id": "37b25674",
   "metadata": {},
   "outputs": [],
   "source": [
    "history=model.fit(X_train, y_train,                                   # 모델 훈련\n",
    "                  epochs=2000, batch_size=500,                        # 반복횟수 2천, 배치사이즈200\n",
    "                  validation_split=0.25, verbose=1,                   # 자료나눔 25% , 알림 활성화\n",
    "                  callbacks=[early_stopping_callback,checkpointer])   # 콜백함수, 자동중단, 모델저장"
   ]
  },
  {
   "cell_type": "code",
   "execution_count": null,
   "id": "b8276739",
   "metadata": {},
   "outputs": [],
   "source": [
    "model.evaluate(X_test,y_test)                                         # 모델 실행, 정확도 확인\n",
    "print(\"\\n Test Accuracy: %.4f\" % (model.evaluate(testX, testy)[1]))   # 모델정확도 출력"
   ]
  },
  {
   "cell_type": "code",
   "execution_count": null,
   "id": "050180d3",
   "metadata": {},
   "outputs": [],
   "source": [
    "loss='categorical_crossentropy'                    # 손실함수 : 범주형 교차 엔트로피"
   ]
  },
  {
   "cell_type": "code",
   "execution_count": null,
   "id": "d8c43f42",
   "metadata": {},
   "outputs": [],
   "source": [
    "# 모델 저장/불러오기\n",
    "model.save('myModel.hdf5')                                        # 모델 저장\n",
    "del model                                                         # 모델 제거\n",
    "load_model('myModel.hdf5')                                        # 모델 불러오기"
   ]
  },
  {
   "cell_type": "code",
   "execution_count": null,
   "id": "594f91b1",
   "metadata": {},
   "outputs": [],
   "source": [
    "#2일차"
   ]
  },
  {
   "cell_type": "code",
   "execution_count": null,
   "id": "dd74f33e",
   "metadata": {},
   "outputs": [],
   "source": [
    "from tensorflow.keras.models import Sequential                                    # 모델 불러오기\n",
    "from tensorflow.keras.layers import Dense, Dropout, Flatten, Conv2D, MaxPooling2D # 덴스, 드롭아웃,평탄화, 콘볼루션2d, 풀링2d\n",
    "from tensorflow.keras.callbacks import EarlyStopping, ModelCheckpoint             # 최적위치 저장용\n",
    "from sklearn.model_selection import train_test_split                              # 훈련 / 테스트 데이터 분할용\n",
    "from keras.datasets import fashion_mnist                                          # 패션데이터\n",
    "from tensorflow.keras.utils import to_categorical                                 # 유틸자료 카테고리로 바꾸기\n",
    "import matplotlib.pyplot as plt                                 \n",
    "import seaborn as sns\n",
    "import pandas as pd\n",
    "import numpy as np"
   ]
  },
  {
   "cell_type": "code",
   "execution_count": null,
   "id": "c501c573",
   "metadata": {},
   "outputs": [],
   "source": [
    "(trainX, trainy), (testX, testy) = fashion_mnist.load_data()  # 훈련셋, 테스트셋 다운로드. \n",
    "print(\"학습셋 이미지 수 : %d 개\" % (trainX.shape[0]))         # 연습세트 갯수 확인\n",
    "print(\"테스트셋 이미지 수 : %d 개\" % (testX.shape[0]))        # 테스트셋 개수 확인"
   ]
  },
  {
   "cell_type": "code",
   "execution_count": null,
   "id": "b0b456b5",
   "metadata": {},
   "outputs": [],
   "source": [
    "# 사진가공 기준데이터 28*28=784\n",
    "trainX = trainX.reshape(trainX.shape[0], 784).astype('float32') / 255  # RGB개수만큼 나눠서 정규화\n",
    "testX = testX.reshape(testX.shape[0], 784).astype('float32') / 255     # 위와 동일\n",
    "trainy = to_categorical(trainy, 10)                                    # 유틸형식 연습데이터 카테고리형식 변경\n",
    "testy = to_categorical(testy, 10)                                      # 위와 동일"
   ]
  },
  {
   "cell_type": "code",
   "execution_count": null,
   "id": "7a6e1d18",
   "metadata": {},
   "outputs": [],
   "source": [
    "# CNN 딥러닝 제작\n",
    "model = Sequential()\n",
    "model.add(Conv2D(32, kernel_size=(3, 3), input_shape=(28, 28, 1), activation='relu')) # 필터갯수, 필터크기, 투입사진, 작동방식\n",
    "model.add(Conv2D(64, (3, 3), activation='relu'))      # 필터갯수, 필터크기(생략되었다), 작동방식\n",
    "model.add(MaxPooling2D(pool_size=(2,2)))              # 풀링하기.2,2사이즈로 만들기\n",
    "model.add(Dropout(0.25))                              # 25%를 드롭아웃한 상태에서 진행\n",
    "model.add(Flatten())                                  # 플래튼이 일어난 다음에 히든계층으로 간다. \n",
    "model.add(Dense(128,  activation='relu'))             # 128차원짜리 층으로 나눔\n",
    "model.add(Dropout(0.5))                               # 50% 드롭\n",
    "model.add(Dense(10, activation='softmax'))            # 소프트맥스로 결과값 출력"
   ]
  },
  {
   "cell_type": "code",
   "execution_count": null,
   "id": "0f6a9f47",
   "metadata": {},
   "outputs": [],
   "source": [
    "# 이후 동일\n",
    "model.compile(loss='categorical_crossentropy',           # 범주형 교차 엔트로피\n",
    "              optimizer='adam',\n",
    "              metrics=['accuracy'])\n",
    "modelpath=\"./data/model/MNIST_CNN.hdf5\"\n",
    "checkpointer = ModelCheckpoint(filepath=modelpath, monitor='val_loss', verbose=1, save_best_only=True)\n",
    "early_stopping_callback = EarlyStopping(monitor='val_loss', patience=10)"
   ]
  },
  {
   "cell_type": "code",
   "execution_count": null,
   "id": "dbc2b3a6",
   "metadata": {},
   "outputs": [],
   "source": []
  },
  {
   "cell_type": "code",
   "execution_count": null,
   "id": "54c0bef9",
   "metadata": {},
   "outputs": [],
   "source": []
  },
  {
   "cell_type": "code",
   "execution_count": null,
   "id": "6e2b456b",
   "metadata": {},
   "outputs": [],
   "source": []
  },
  {
   "cell_type": "code",
   "execution_count": null,
   "id": "b2f67f2e",
   "metadata": {},
   "outputs": [],
   "source": []
  },
  {
   "cell_type": "code",
   "execution_count": null,
   "id": "28828148",
   "metadata": {},
   "outputs": [],
   "source": []
  },
  {
   "cell_type": "code",
   "execution_count": null,
   "id": "a0792b99",
   "metadata": {},
   "outputs": [],
   "source": []
  },
  {
   "cell_type": "code",
   "execution_count": null,
   "id": "e47d16cd",
   "metadata": {},
   "outputs": [],
   "source": []
  },
  {
   "cell_type": "code",
   "execution_count": null,
   "id": "e0b839d7",
   "metadata": {},
   "outputs": [],
   "source": []
  },
  {
   "cell_type": "code",
   "execution_count": null,
   "id": "58e59188",
   "metadata": {},
   "outputs": [],
   "source": []
  },
  {
   "cell_type": "code",
   "execution_count": null,
   "id": "3594e592",
   "metadata": {},
   "outputs": [],
   "source": []
  }
 ],
 "metadata": {
  "kernelspec": {
   "display_name": "Python 3 (ipykernel)",
   "language": "python",
   "name": "python3"
  },
  "language_info": {
   "codemirror_mode": {
    "name": "ipython",
    "version": 3
   },
   "file_extension": ".py",
   "mimetype": "text/x-python",
   "name": "python",
   "nbconvert_exporter": "python",
   "pygments_lexer": "ipython3",
   "version": "3.11.4"
  }
 },
 "nbformat": 4,
 "nbformat_minor": 5
}
