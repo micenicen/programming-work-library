{
 "cells": [
  {
   "cell_type": "code",
   "execution_count": null,
   "id": "d91c6f54",
   "metadata": {},
   "outputs": [],
   "source": [
    "# day1\n"
   ]
  },
  {
   "cell_type": "code",
   "execution_count": null,
   "id": "86b92039",
   "metadata": {},
   "outputs": [],
   "source": [
    "from tensorflow import keras # 케라스 호출 \n",
    "from tensorflow.keras import layers # 케라스 내부 레이어 호출\n",
    "from tensorflow.keras.models import Sequential # 케라스 모델 시퀸셜 바로 호출\n",
    "from tensorflow.keras.layers import Dense # 케라스 레이어 덴스 바로 호출"
   ]
  },
  {
   "cell_type": "code",
   "execution_count": null,
   "id": "5010f830",
   "metadata": {},
   "outputs": [],
   "source": [
    "# 케라스 모델 정의\n",
    "model = keras.Sequential([layers.Dense(units=1,input_shape=[3])]) \n",
    "# keras.Sequential() : 케라스에서 신경망을 구축하는데 사용되는 클래스. \n",
    "# layers.Dense : 완전연결신경망(fully connected layers)으로 설정\n",
    "# units=1 : 출력값\n",
    "# input_shape=[3] : 3개의 특성 투입\n",
    "\n",
    "model = keras.Sequential([                                 # 신경망 구축 \n",
    "layers.Dense(units=4, input_shape=[2], activation='relu'), # 출력값 = 4, 입력값 = 2, 활성화함수 = 렐루 \n",
    "layers.Dense(units=3, activation='relu'),                  # 출력값 = 3, 활성화함수 = 렐루\n",
    "layers.Dense(units=1, activation='sigmoid')                # 출력값 = 1, 활성화함수 = 시그모이드\n",
    "])\n",
    "# 활성함수: 렐루(0~1까지의 숫자를 출력하며 널리 쓰임)\n",
    "#           시그모이드(-1~1까지의 숫자를 출력하며 최종본 출력때 쓰임)\n",
    "#           소프트맥스(원핫인코딩을 한 경우 자주 사용됨)\n",
    "\n",
    "model.compile(optimizer='adam',loss='mae') # 모델을 재구성한다. 옵티마이저 : 아담, 손실함수 mae (mse나 rmse도 가능)\n",
    "# 옵티마이저 종류 : 그레디언트 디센트 알고리즘, 아담 옵티마이저, rms prof, momentum등이 존재.\n",
    "model.summary() # 현재 만들어진 모델의 구조를 나타낸다. "
   ]
  },
  {
   "cell_type": "code",
   "execution_count": null,
   "id": "6e5b4cbf",
   "metadata": {},
   "outputs": [],
   "source": [
    "# 케라스 모델. 추가형식\n",
    "model = Sequential() #모델 정의\n",
    "model.add(Dense(12,input_dim=8,activation='relu', name='Dense_1')) # 만들어진 모델에 끼워서 추가하기 \n",
    "model.add(Dense(8,activation='relu'))                              # dim은 바로 숫자를 쓰게 해준다. \n",
    "model.add(Dense(1,activation='sigmoid')                            # 이름을 추가할 수 있다. \n",
    "\n",
    "model.compile(optimizer='adam',loss='binary_crossentropy',metrics=['accuracy'])# 모델 재구성\n",
    "          # 옵티마이저 : 아담, 손실함수: 이진교차엔트로피 ,매트릭스 : 정확도 중심\n",
    " "
   ]
  },
  {
   "cell_type": "code",
   "execution_count": null,
   "id": "68595eb9",
   "metadata": {},
   "outputs": [],
   "source": [
    "# 케라스 모델 사용하기 \n",
    "model.fit(x_train, y_train, epochs=10,batch_size=5) # 모델적용 : \n",
    "    # 훈련데이터, 답지, 에폭스 : 반복훈련횟수, 배치사이즈(한번에 투입하는 사이즈)\n",
    "model.predict(np.array([[5.9,3.0,5.1,1.8]])) # 모델에 답 투입하여 샘플 1개 확인하기.(인풋에 맞게 투입)\n"
   ]
  },
  {
   "cell_type": "code",
   "execution_count": null,
   "id": "a752aa0d",
   "metadata": {},
   "outputs": [],
   "source": [
    "# 모델 컴파일 / 그래프로 보기\n",
    "model = Sequential()\n",
    "model.add(Dense(30,  input_dim=12, activation='relu'))\n",
    "model.add(Dense(12, activation='relu'))                \n",
    "model.add(Dense(8, activation='relu'))                 \n",
    "model.add(Dense(1, activation='sigmoid'))  \n",
    "model.compile(loss='binary_crossentropy', optimizer='adam', metrics=['accuracy'])\n",
    "history=model.fit(X_train, y_train, epochs=50, batch_size=500, validation_split=0.25) \n",
    "# 히스토리 항목에 저장 / 검증 분할 0.25\n",
    "hist_df=pd.DataFrame(history.history)      \n",
    "# 히스토리 항목 데이터프레임으로 변경"
   ]
  },
  {
   "cell_type": "code",
   "execution_count": null,
   "id": "ff9211b3",
   "metadata": {},
   "outputs": [],
   "source": [
    "y_vloss=hist_df['val_loss']                                                 # val_loss 항목을 y축 밸류로스 로 설정\n",
    "y_loss=hist_df['loss']                                                      # loss항목을 y축 로스 항목으로 설정\n",
    "x_len = np.arange(len(y_loss))                                              # y로스의 길이만큼 x의 길이로 설정\n",
    "plt.plot(x_len, y_vloss, \"o\", c=\"red\", markersize=2, label='Testset_loss')  # x의 길이와 y축의 밸류로스(테스트셋)을 빨간색으로 표시\n",
    "plt.plot(x_len, y_loss, \"o\", c=\"blue\", markersize=2, label='Trainset_loss') # x의 길이와 y축의 로스(훈련셋)을 파란색으로 표시\n",
    "\n",
    "plt.legend(loc='upper right')                                               # 플랏리 보여주기\n",
    "plt.xlabel('epoch')                                                         # 플랏리x라벨은 에폭\n",
    "plt.ylabel('loss')                                                          # 플랏리 y라벨은 로스\n",
    "plt.show()                                                                  # 그래프 보기"
   ]
  },
  {
   "cell_type": "code",
   "execution_count": null,
   "id": "b13cf8b2",
   "metadata": {},
   "outputs": [],
   "source": []
  },
  {
   "cell_type": "code",
   "execution_count": null,
   "id": "050180d3",
   "metadata": {},
   "outputs": [],
   "source": []
  },
  {
   "cell_type": "code",
   "execution_count": null,
   "id": "d8c43f42",
   "metadata": {},
   "outputs": [],
   "source": []
  },
  {
   "cell_type": "code",
   "execution_count": null,
   "id": "3594e592",
   "metadata": {},
   "outputs": [],
   "source": [
    "# 모델 저장/불러오기\n",
    "model.save('myModel.hdf5')                                        # 모델 저장\n",
    "del model                                                         # 모델 제거\n",
    "load_model('myModel.hdf5')                                        # 모델 불러오기"
   ]
  },
  {
   "cell_type": "code",
   "execution_count": null,
   "id": "08bd0bdb",
   "metadata": {},
   "outputs": [],
   "source": []
  },
  {
   "cell_type": "code",
   "execution_count": null,
   "id": "39633899",
   "metadata": {},
   "outputs": [],
   "source": []
  },
  {
   "cell_type": "code",
   "execution_count": null,
   "id": "6a94b03e",
   "metadata": {},
   "outputs": [],
   "source": []
  },
  {
   "cell_type": "code",
   "execution_count": null,
   "id": "303fd7f6",
   "metadata": {},
   "outputs": [],
   "source": []
  },
  {
   "cell_type": "code",
   "execution_count": null,
   "id": "d11ddd57",
   "metadata": {},
   "outputs": [],
   "source": []
  }
 ],
 "metadata": {
  "kernelspec": {
   "display_name": "Python 3 (ipykernel)",
   "language": "python",
   "name": "python3"
  },
  "language_info": {
   "codemirror_mode": {
    "name": "ipython",
    "version": 3
   },
   "file_extension": ".py",
   "mimetype": "text/x-python",
   "name": "python",
   "nbconvert_exporter": "python",
   "pygments_lexer": "ipython3",
   "version": "3.11.4"
  }
 },
 "nbformat": 4,
 "nbformat_minor": 5
}
