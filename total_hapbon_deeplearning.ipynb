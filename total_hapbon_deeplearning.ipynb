{
 "cells": [
  {
   "cell_type": "code",
   "execution_count": null,
   "id": "d91c6f54",
   "metadata": {},
   "outputs": [],
   "source": [
    "# day1\n"
   ]
  },
  {
   "cell_type": "code",
   "execution_count": null,
   "id": "86b92039",
   "metadata": {},
   "outputs": [],
   "source": [
    "from tensorflow import keras # 케라스 호출 \n",
    "from tensorflow.keras import layers # 케라스 내부 레이어 호출"
   ]
  },
  {
   "cell_type": "code",
   "execution_count": null,
   "id": "5010f830",
   "metadata": {},
   "outputs": [],
   "source": [
    "# 케라스 모델 정의\n",
    "model = keras.Sequential([layers.Dense(units=1,input_shape=[3])]) \n",
    "# keras.Sequential() : 케라스에서 신경망을 구축하는데 사용되는 클래스. \n",
    "# layers.Dense : 완전연결신경망(fully connected layers)으로 설정\n",
    "# units=1 : 출력값\n",
    "# input_shape=[3] : 3개의 특성 투입\n",
    "\n",
    "model = keras.Sequential([                                 # 신경망 구축 \n",
    "layers.Dense(units=4, input_shape=[2], activation='relu'), # 출력값 = 4, 입력값 = 2, 활성화함수 = 렐루 \n",
    "layers.Dense(units=3, activation='relu'),                  # 출력값 = 3, 활성화함수 = 렐루\n",
    "layers.Dense(units=1, activation='sigmoid')                # 출력값 = 1, 활성화함수 = 시그모이드\n",
    "])\n",
    "\n",
    "model.summary() # 두"
   ]
  },
  {
   "cell_type": "code",
   "execution_count": null,
   "id": "68595eb9",
   "metadata": {},
   "outputs": [],
   "source": []
  },
  {
   "cell_type": "code",
   "execution_count": null,
   "id": "3594e592",
   "metadata": {},
   "outputs": [],
   "source": []
  },
  {
   "cell_type": "code",
   "execution_count": null,
   "id": "08bd0bdb",
   "metadata": {},
   "outputs": [],
   "source": []
  },
  {
   "cell_type": "code",
   "execution_count": null,
   "id": "39633899",
   "metadata": {},
   "outputs": [],
   "source": []
  },
  {
   "cell_type": "code",
   "execution_count": null,
   "id": "6a94b03e",
   "metadata": {},
   "outputs": [],
   "source": []
  },
  {
   "cell_type": "code",
   "execution_count": null,
   "id": "303fd7f6",
   "metadata": {},
   "outputs": [],
   "source": []
  },
  {
   "cell_type": "code",
   "execution_count": null,
   "id": "d11ddd57",
   "metadata": {},
   "outputs": [],
   "source": []
  }
 ],
 "metadata": {
  "kernelspec": {
   "display_name": "Python 3 (ipykernel)",
   "language": "python",
   "name": "python3"
  },
  "language_info": {
   "codemirror_mode": {
    "name": "ipython",
    "version": 3
   },
   "file_extension": ".py",
   "mimetype": "text/x-python",
   "name": "python",
   "nbconvert_exporter": "python",
   "pygments_lexer": "ipython3",
   "version": "3.11.4"
  }
 },
 "nbformat": 4,
 "nbformat_minor": 5
}
