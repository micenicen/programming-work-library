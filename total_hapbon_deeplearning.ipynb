{
 "cells": [
  {
   "cell_type": "code",
   "execution_count": null,
   "id": "d91c6f54",
   "metadata": {},
   "outputs": [],
   "source": [
    "# day1\n"
   ]
  },
  {
   "cell_type": "code",
   "execution_count": null,
   "id": "86b92039",
   "metadata": {},
   "outputs": [],
   "source": [
    "import sys\n",
    "import matplotlib.pyplot as plt\n",
    "from tensorflow import keras # 케라스 호출 \n",
    "from tensorflow.keras import layers # 케라스 내부 레이어 호출\n",
    "from tensorflow.keras.models import Sequential # 케라스 모델 시퀸셜 바로 호출\n",
    "from tensorflow.keras.layers import Dense # 케라스 레이어 덴스 바로 호출\n",
    "from tensorflow.keras.datasets import mnist # mnist 데이터셋(숫자훈련 데이터셋)\n",
    "from tensorflow.keras.utils import to_categorical # 유틸을 카테고리로 변경하는 모듈\n",
    "from tensorflow.keras.callbacks import ModelCheckpoint, EarlyStopping # 모델 체크포인트, 조기중단 클래스\n",
    "\n"
   ]
  },
  {
   "cell_type": "code",
   "execution_count": null,
   "id": "5010f830",
   "metadata": {},
   "outputs": [],
   "source": [
    "# DNN 모델 정의\n",
    "model = keras.Sequential([layers.Dense(units=1,input_shape=[3])]) \n",
    "# keras.Sequential() : 케라스에서 신경망을 구축하는데 사용되는 클래스. \n",
    "# layers.Dense : 완전연결신경망(fully connected layers)으로 설정\n",
    "# units=1 : 출력값\n",
    "# input_shape=[3] : 3개의 특성 투입\n",
    "\n",
    "model = keras.Sequential([                                 # 신경망 구축 \n",
    "layers.Dense(units=4, input_shape=[2], activation='relu'), # 출력값 = 4, 입력값 = 2, 활성화함수 = 렐루 \n",
    "layers.Dense(units=3, activation='relu'),                  # 출력값 = 3, 활성화함수 = 렐루\n",
    "layers.Dense(units=1, activation='sigmoid')                # 출력값 = 1, 활성화함수 = 시그모이드\n",
    "])\n",
    "# 활성함수: 렐루(0~1까지의 숫자를 출력하며 널리 쓰임)\n",
    "#           시그모이드(-1~1까지의 숫자를 출력하며 최종본 출력때 쓰임)\n",
    "#           소프트맥스(원핫인코딩을 한 경우 자주 사용됨)\n",
    "\n",
    "model.compile(optimizer='adam',loss='mae') # 모델을 재구성한다. 옵티마이저 : 아담, 손실함수 mae (mse나 rmse도 가능)\n",
    "# 옵티마이저 종류 : 그레디언트 디센트 알고리즘, 아담 옵티마이저, rms prof, momentum등이 존재.\n",
    "model.summary() # 현재 만들어진 모델의 구조를 나타낸다. "
   ]
  },
  {
   "cell_type": "code",
   "execution_count": null,
   "id": "6e5b4cbf",
   "metadata": {},
   "outputs": [],
   "source": [
    "# 케라스 모델. 추가형식\n",
    "model = Sequential() #모델 정의\n",
    "model.add(Dense(12,input_dim=8,activation='relu', name='Dense_1')) # 만들어진 모델에 끼워서 추가하기 \n",
    "model.add(Dense(8,activation='relu'))                              # dim은 바로 숫자를 쓰게 해준다. \n",
    "model.add(Dense(1,activation='sigmoid')                            # 이름을 추가할 수 있다. \n",
    "\n",
    "model.compile(optimizer='adam',loss='binary_crossentropy',metrics=['accuracy'])# 모델 재구성\n",
    "          # 옵티마이저 : 아담, 손실함수: 이진교차엔트로피 ,매트릭스 : 정확도 중심\n",
    "# 손실함수 설정 \n",
    "# 결과가 0 또는 1로 나오는 경우 : 이진교차 엔트로피 'binary_crossentropy'\n",
    "# 결과가 연속형 형식으로 나오는 경우(가격 등) : 평균제곱오차 'mean_squared_error'"
   ]
  },
  {
   "cell_type": "code",
   "execution_count": null,
   "id": "68595eb9",
   "metadata": {},
   "outputs": [],
   "source": [
    "# 케라스 모델 사용하기 \n",
    "model.fit(x_train, y_train, epochs=10,batch_size=5) # 모델적용 : \n",
    "    # 훈련데이터, 답지, 에폭스 : 반복훈련횟수, 배치사이즈(한번에 투입하는 사이즈)\n",
    "model.predict(np.array([[5.9,3.0,5.1,1.8]])) # 모델에 답 투입하여 샘플 1개 확인하기.(인풋에 맞게 투입)\n"
   ]
  },
  {
   "cell_type": "code",
   "execution_count": null,
   "id": "a752aa0d",
   "metadata": {},
   "outputs": [],
   "source": [
    "# 모델 컴파일 / 그래프로 보기\n",
    "model = Sequential()\n",
    "model.add(Dense(30,  input_dim=12, activation='relu'))\n",
    "model.add(Dense(12, activation='relu'))                \n",
    "model.add(Dense(8, activation='relu'))                 \n",
    "model.add(Dense(1, activation='sigmoid'))  \n",
    "model.compile(loss='binary_crossentropy', optimizer='adam', metrics=['accuracy'])\n",
    "history=model.fit(X_train, y_train, epochs=50, batch_size=500, validation_split=0.25) \n",
    "# 히스토리 항목에 저장 / 검증 분할 0.25\n",
    "hist_df=pd.DataFrame(history.history)      \n",
    "# 히스토리 항목 데이터프레임으로 변경"
   ]
  },
  {
   "cell_type": "code",
   "execution_count": null,
   "id": "ff9211b3",
   "metadata": {},
   "outputs": [],
   "source": [
    "y_vloss=hist_df['val_loss']                                                 # val_loss 항목을 y축 밸류로스 로 설정\n",
    "y_loss=hist_df['loss']                                                      # loss항목을 y축 로스 항목으로 설정\n",
    "x_len = np.arange(len(y_loss))                                              # y로스의 길이만큼 x의 길이로 설정\n",
    "plt.plot(x_len, y_vloss, \"o\", c=\"red\", markersize=2, label='Testset_loss')  # x의 길이와 y축의 밸류로스(테스트셋)을 빨간색으로 표시\n",
    "plt.plot(x_len, y_loss, \"o\", c=\"blue\", markersize=2, label='Trainset_loss') # x의 길이와 y축의 로스(훈련셋)을 파란색으로 표시\n",
    "\n",
    "plt.legend(loc='upper right')                                               # 플랏리 보여주기\n",
    "plt.xlabel('epoch')                                                         # 플랏리x라벨은 에폭\n",
    "plt.ylabel('loss')                                                          # 플랏리 y라벨은 로스\n",
    "plt.show()                                                                  # 그래프 보기"
   ]
  },
  {
   "cell_type": "code",
   "execution_count": null,
   "id": "b13cf8b2",
   "metadata": {},
   "outputs": [],
   "source": [
    "# 학습 자동중단\n",
    "from tensorflow.keras.callbacks import ModelCheckpoint, EarlyStopping # 모델 체크포인트, 조기중단 클래스\n",
    "early_stopping_callback = EarlyStopping(                              # 자동중단기능\n",
    "    monitor='val_loss', patience=20)                                  # 모니터링 : 밸류로스, 대기횟수 20\n",
    "modelpath=\"./data/model/Ch14-4-bestmodel.hdf5\"                        # 모델저장위치 확인\n",
    "checkpointer = ModelCheckpoint(                                       # 모델 저장 체크포인트\n",
    "    filepath=modelpath, monitor='val_loss',                           # 파일저장위치, 모니터링:밸류로스\n",
    "    verbose=0, save_best_only=True)                                   # 알림기능 끔, 최고상태에서 저장"
   ]
  },
  {
   "cell_type": "code",
   "execution_count": null,
   "id": "37b25674",
   "metadata": {},
   "outputs": [],
   "source": [
    "history=model.fit(X_train, y_train,                                   # 모델 훈련\n",
    "                  epochs=2000, batch_size=500,                        # 반복횟수 2천, 배치사이즈200\n",
    "                  validation_split=0.25, verbose=1,                   # 자료나눔 25% , 알림 활성화\n",
    "                  callbacks=[early_stopping_callback,checkpointer])   # 콜백함수, 자동중단, 모델저장"
   ]
  },
  {
   "cell_type": "code",
   "execution_count": null,
   "id": "b8276739",
   "metadata": {},
   "outputs": [],
   "source": [
    "model.evaluate(X_test,y_test)                                         # 모델 실행, 정확도 확인\n",
    "print(\"\\n Test Accuracy: %.4f\" % (model.evaluate(testX, testy)[1]))   # 모델정확도 출력"
   ]
  },
  {
   "cell_type": "code",
   "execution_count": null,
   "id": "050180d3",
   "metadata": {},
   "outputs": [],
   "source": [
    "loss='categorical_crossentropy'                    # 손실함수 : 범주형 교차 엔트로피"
   ]
  },
  {
   "cell_type": "code",
   "execution_count": null,
   "id": "d8c43f42",
   "metadata": {},
   "outputs": [],
   "source": [
    "# 모델 저장/불러오기\n",
    "model.save('myModel.hdf5')                                        # 모델 저장\n",
    "del model                                                         # 모델 제거\n",
    "load_model('myModel.hdf5')                                        # 모델 불러오기"
   ]
  },
  {
   "cell_type": "code",
   "execution_count": null,
   "id": "594f91b1",
   "metadata": {},
   "outputs": [],
   "source": [
    "#2일차"
   ]
  },
  {
   "cell_type": "code",
   "execution_count": null,
   "id": "dd74f33e",
   "metadata": {},
   "outputs": [],
   "source": [
    "from tensorflow.keras.models import Sequential                                    # 모델 불러오기\n",
    "from tensorflow.keras.layers import Dense, Dropout, Flatten, Conv2D, MaxPooling2D # 덴스, 드롭아웃,평탄화, 콘볼루션2d, 풀링2d\n",
    "from tensorflow.keras.callbacks import EarlyStopping, ModelCheckpoint             # 최적위치 저장용\n",
    "from sklearn.model_selection import train_test_split                              # 훈련 / 테스트 데이터 분할용\n",
    "from keras.datasets import fashion_mnist                                          # 패션데이터\n",
    "from tensorflow.keras.utils import to_categorical                                 # 유틸자료 카테고리로 바꾸기\n",
    "import matplotlib.pyplot as plt                                 \n",
    "import seaborn as sns\n",
    "import pandas as pd\n",
    "import numpy as np"
   ]
  },
  {
   "cell_type": "code",
   "execution_count": null,
   "id": "c501c573",
   "metadata": {},
   "outputs": [],
   "source": [
    "(trainX, trainy), (testX, testy) = fashion_mnist.load_data()  # 훈련셋, 테스트셋 다운로드. \n",
    "print(\"학습셋 이미지 수 : %d 개\" % (trainX.shape[0]))         # 연습세트 갯수 확인\n",
    "print(\"테스트셋 이미지 수 : %d 개\" % (testX.shape[0]))        # 테스트셋 개수 확인"
   ]
  },
  {
   "cell_type": "code",
   "execution_count": null,
   "id": "b0b456b5",
   "metadata": {},
   "outputs": [],
   "source": [
    "# 사진가공 기준데이터 28*28=784\n",
    "trainX = trainX.reshape(trainX.shape[0], 784).astype('float32') / 255  # RGB개수만큼 나눠서 정규화\n",
    "testX = testX.reshape(testX.shape[0], 784).astype('float32') / 255     # 위와 동일\n",
    "trainy = to_categorical(trainy, 10)                                    # 유틸형식 연습데이터 카테고리형식 변경\n",
    "testy = to_categorical(testy, 10)                                      # 위와 동일"
   ]
  },
  {
   "cell_type": "code",
   "execution_count": null,
   "id": "7a6e1d18",
   "metadata": {},
   "outputs": [],
   "source": [
    "# CNN 딥러닝 제작\n",
    "model = Sequential()\n",
    "model.add(Conv2D(32, kernel_size=(3, 3), input_shape=(28, 28, 1), activation='relu')) # 필터갯수, 필터크기, 투입사진, 작동방식\n",
    "model.add(Conv2D(64, (3, 3), activation='relu'))      # 필터갯수, 필터크기(생략되었다), 작동방식\n",
    "model.add(MaxPooling2D(pool_size=(2,2)))              # 풀링하기.2,2사이즈로 만들기\n",
    "model.add(Dropout(0.25))                              # 25%를 드롭아웃한 상태에서 진행\n",
    "model.add(Flatten())                                  # 플래튼이 일어난 다음에 히든계층으로 간다. \n",
    "model.add(Dense(128,  activation='relu'))             # 128차원짜리 층으로 나눔\n",
    "model.add(Dropout(0.5))                               # 50% 드롭\n",
    "model.add(Dense(10, activation='softmax'))            # 소프트맥스로 결과값 출력"
   ]
  },
  {
   "cell_type": "code",
   "execution_count": null,
   "id": "0f6a9f47",
   "metadata": {},
   "outputs": [],
   "source": [
    "# 이후 동일\n",
    "model.compile(loss='categorical_crossentropy',           # 범주형 교차 엔트로피\n",
    "              optimizer='adam',\n",
    "              metrics=['accuracy'])\n",
    "modelpath=\"./data/model/MNIST_CNN.hdf5\"\n",
    "checkpointer = ModelCheckpoint(filepath=modelpath, monitor='val_loss', verbose=1, save_best_only=True)\n",
    "early_stopping_callback = EarlyStopping(monitor='val_loss', patience=10)"
   ]
  },
  {
   "cell_type": "code",
   "execution_count": null,
   "id": "dbc2b3a6",
   "metadata": {},
   "outputs": [],
   "source": [
    "# 3일차. 딥러닝 이미지 조절\n",
    "import tensorflow as tf                              # 텐서플로 호출\n",
    "from tensorflow.keras.preprocessing import image     # 케라스 이미지 호출\n",
    "import numpy as np                                   # 넘파이 호출                               \n",
    "import matplotlib.pyplot as plt                      # 파이플랏\n",
    "from tensorflow.image import pad_to_bounding_box     # 이미지 묶기\n",
    "from tensorflow.image import central_crop            # 가운데 추출\n",
    "from tensorflow.image import resize                  # 이미지 크기조절"
   ]
  },
  {
   "cell_type": "code",
   "execution_count": null,
   "id": "54c0bef9",
   "metadata": {},
   "outputs": [],
   "source": [
    "# 이미지 조절 기술\n",
    "bgd = image.load_img('dogs.png')                     # 이미지 불러오기\n",
    "image.img_to_array(bgd)                              # 이미지 배열화\n",
    "image.img_to_array(bgd).shape                        # 이미지 배열화,(높이, 너비, 채널)\n",
    "bgd_vector = np.asarray(image.img_to_array(bgd))     # 이미지벡터에 전달 \n",
    "bgd_vector = bgd_vector/255                          # 이미지 벡터 정규화\n",
    "\n",
    "plt.imshow(bgd_vector)                               # 플랏에 이미지 이미지 보여주기\n",
    "plt.show()                                           # 이미지 보여주기\n",
    "\n"
   ]
  },
  {
   "cell_type": "code",
   "execution_count": null,
   "id": "6e2b456b",
   "metadata": {},
   "outputs": [],
   "source": [
    "# 이미지 크기 변경하기 - 테두리 이미지 설정\n",
    "target_height = 4500                                 # 변경할 이미지 높이           \n",
    "target_width = 4500                                  # 변경할 이미지 폭\n",
    "\n",
    "source_height = bgd_vector.shape[0]                  # 현재 이미지의 높이\n",
    "source_width = bgd_vector.shape[1]                   # 현재 이미지의 넓이\n",
    " \n",
    "# padding 실시 : pad_to_bounding_box 사용 \n",
    "bgd_vector_pad = pad_to_bounding_box(bgd_vector,                           # 패드를 박스로 묶기 \n",
    "                                     int((target_height-source_height)/2), # 타겟높이-설정폭을 2로 나눠서 정수화\n",
    "                                     int((target_width-source_width)/2),   # 타겟폭-설정폭을  2로 나눠 정수화\n",
    "                                     target_height,                        # 변경할 이미지 높이\n",
    "                                     target_width)                         # 변경할 이미지 폭\n",
    "                                     \n",
    "bgd_vector_pad.shape                                 # 이미지 형태 확인\n",
    "plt.imshow(bgd_vector_pad)                           # 플랏에 이미지 보여주기\n",
    "plt.show()                                           # 이미지 보여주기\n",
    "   \n",
    "#이미지 저장 \n",
    "image.save_img('dogs_pad.png', bgd_vector_pad)       # 이미지 저장하기"
   ]
  },
  {
   "cell_type": "code",
   "execution_count": null,
   "id": "b2f67f2e",
   "metadata": {},
   "outputs": [],
   "source": [
    "# 이미지 추출하기\n",
    "bgd_vector_crop = central_crop(bgd_vector, .5)       # 가운데만 추출하기, 추출대상, 50% 추출\n",
    "bgd_vector_crop.shape                                # 추출 이미지 형태확인\n",
    " \n",
    "plt.imshow(bgd_vector_crop)                          # 플랏에 이미지 보여주기  \n",
    "plt.show()                                           # 이미지 보여주기"
   ]
  },
  {
   "cell_type": "code",
   "execution_count": null,
   "id": "28828148",
   "metadata": {},
   "outputs": [],
   "source": [
    "# 이미지 사이즈 다시 정의하기\n",
    "bgd_vector_resize = resize(bgd_vector, (300,300))    # 원본사진크기 재설정하기. 300*300으로 재설정\n",
    "bgd_vector_resize.shape                              # 재설정 이미지 형태확인\n",
    " \n",
    "plt.imshow(bgd_vector_resize)                        # 플랏에 이미지 보여주기  "
   ]
  },
  {
   "cell_type": "code",
   "execution_count": null,
   "id": "bf45caec",
   "metadata": {},
   "outputs": [],
   "source": [
    "# 이미지 사이즈 정사각형으로 정의하기\n",
    "w, h = img.size                                      # 이미지 사이즈x,y,축으로 나눠서 대입\n",
    "s = min(w, h)                                        # 둘 중 최소사이즈 확인\n",
    "img = img.crop((x, y, x+s, y+s))                     # 최소사이즈를 기준으로 이미지 축소"
   ]
  },
  {
   "cell_type": "code",
   "execution_count": null,
   "id": "a0792b99",
   "metadata": {},
   "outputs": [],
   "source": [
    "# 사전학습 모델 불러오기 : 케라스에서 클래스 형태로 제공함 \n",
    "from tensorflow.keras.applications.vgg16 import VGG16  # 사전학습된 모델 불러오기 VGG16\n",
    "model = VGG16(weights='imagenet', include_top=True)    # weight, include_top 파라미터 설정 \n",
    "model.summary()                                        # 모델 설계구조 확인\n",
    "\n",
    "# from tensorflow.keras.applications  import  여기서 탭을 누르면 역대 우승모델들을 확인할 수 있다."
   ]
  },
  {
   "cell_type": "code",
   "execution_count": null,
   "id": "e47d16cd",
   "metadata": {},
   "outputs": [],
   "source": [
    "from tensorflow.keras.applications.vgg16 import preprocess_input            #  vgg16모델에 인풋 모듈\n",
    "from tensorflow.keras.preprocessing import image                            # 이미지 모듈\n",
    " \n",
    "import matplotlib.pyplot as plt\n",
    "from PIL import Image                                                       # PIL이미지\n",
    "from tensorflow.keras.applications.imagenet_utils import decode_predictions # 이미지 분류결과 확률로 표시하기.\n",
    "from tensorflow.keras.applications.imagenet_utils import preprocess_input   # 이미지 인풋용 모듈\n",
    "import numpy as np    \n",
    " \n",
    "img = Image.open('dogs.png')"
   ]
  },
  {
   "cell_type": "code",
   "execution_count": null,
   "id": "e0b839d7",
   "metadata": {},
   "outputs": [],
   "source": [
    "# 다운로드 모델 사용하기\n",
    "model.layers[0].input_shape                          # 인풋 가능한 기준 보기\n",
    "target_size = 224                                    # 이미지 크기숫자 지정\n",
    "img = img.resize((target_size, target_size))         # 이미지 크기를 인풋 가능한 수치로 변경\n",
    "np.expand_dims(np_img, axis=0)                       # 이미지를 1배치로 지정\n",
    "pre_processed = preprocess_input(img_batch)          # 이미지 인풋용 모듈에 이미지 투입\n",
    "y_preds = model.predict(pre_processed)               # 이미지 답안체크\n",
    "np.set_printoptions(                                 # 부동소숫점 숫자출력옵션\n",
    "    suppress=True, precision=10)                     # 과학적 표기법 비활성화, 출력소숫점 자리수 10\n",
    "np.max(y_preds)                                      # 모델 내 최고의 확률값\n"
   ]
  },
  {
   "cell_type": "code",
   "execution_count": null,
   "id": "a976d900",
   "metadata": {},
   "outputs": [],
   "source": [
    "# pip install albumentations                         # 앨범엔테이션. 이미지 회전용 모듈                    "
   ]
  },
  {
   "cell_type": "code",
   "execution_count": null,
   "id": "58e59188",
   "metadata": {},
   "outputs": [],
   "source": [
    "# 이미지 증식요령\n",
    "image_tensor = tf.keras.preprocessing.image.img_to_array(image)           # 넘파이배열로 전환한 이미지를 텐서로 전환\n",
    "\n",
    "# 이미지 좌우반전\n",
    "flip_lr_tensor = tf.image.flip_left_right(image_tensor)                   # 이미지 좌우반전\n",
    "flip_ud_tensor = tf.image.flip_up_down(image_tensor)                      # 이미지 상하반전\n",
    "flip_lr_image = tf.keras.preprocessing.image.array_to_img(flip_lr_tensor) # 배열을 이미지로 변경\n",
    "flip_ud_image = tf.keras.preprocessing.image.array_to_img(flip_ud_tensor) # 배열을 이미지로 변경\n",
    "flip_lr_tensor = tf.image.random_flip_left_right(image_tensor)            # 이미지 랜덤확률로 좌우반전\n",
    "flip_ud_tensor = tf.image.random_flip_up_down(image_tensor)               # 이미지 랜덤확률로 상하반전\n",
    "\n",
    "# 이미지 중간추출\n",
    "cropped_tensor = tf.image.central_crop(image_tensor, frac)                # 이미지 중간 추출(이미지, 확대비율)\n",
    "cropped_img = tf.keras.preprocessing.image.array_to_img(cropped_tensor)   # 추출그림 이미지로 전환\n",
    "\n",
    "# 이미지 밝기조절\n",
    "random_bright_tensor = tf.image.random_brightness(image_tensor, max_delta=128)       # 이미지 밝기 -128~128 중 랜덤설정 \n",
    "random_bright_tensor = tf.clip_by_value(random_bright_tensor, 0, 255)                # 이미지 데이터의 밝기를 0~255사이로 제한\n",
    "random_bright_image = tf.keras.preprocessing.image.array_to_img(random_bright_tensor)# 추출그림 이미지로 전환\n",
    "\n",
    "import albumentations as A\n",
    "# 이미지 회전\n",
    "transform = A.Compose([                                                   # albumentations 블록 정의하기\n",
    "    A.Affine(rotate=(-45,45),                                             # 아핀 변환 적용, 이미지회전 -45~45도,\n",
    "             scale=(0.5,0.9), p=0.5)])                                    # 이미지 크기 0.5~0.9사이, 변환적용확률 0.5\n",
    "    transformed = transform(image=image_arr)                              # 이미지 배열을 블록에 정의한대로 무작이 변환 시작"
   ]
  },
  {
   "cell_type": "code",
   "execution_count": null,
   "id": "3594e592",
   "metadata": {},
   "outputs": [],
   "source": []
  }
 ],
 "metadata": {
  "kernelspec": {
   "display_name": "Python 3 (ipykernel)",
   "language": "python",
   "name": "python3"
  },
  "language_info": {
   "codemirror_mode": {
    "name": "ipython",
    "version": 3
   },
   "file_extension": ".py",
   "mimetype": "text/x-python",
   "name": "python",
   "nbconvert_exporter": "python",
   "pygments_lexer": "ipython3",
   "version": "3.11.4"
  }
 },
 "nbformat": 4,
 "nbformat_minor": 5
}
