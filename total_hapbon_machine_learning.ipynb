{
 "cells": [
  {
   "cell_type": "code",
   "execution_count": null,
   "id": "8803ac95",
   "metadata": {},
   "outputs": [],
   "source": [
    "# pip install missingno 미싱노 인스톨 : 표를 표현하는 다른 방식이다."
   ]
  },
  {
   "cell_type": "code",
   "execution_count": 1,
   "id": "c3d0a3b5",
   "metadata": {},
   "outputs": [],
   "source": [
    "# 1일차\n",
    "# import 사전\n",
    "import numpy as np # 넘파이 호출\n",
    "import pandas as pd # 판다스 호출\n",
    "import matplotlib.pyplot as plt # 맷플랏립 호출\n",
    "import seaborn as sns # 씨본 호출\n",
    "from sklearn.preprocessing import MinMaxScaler # 사이킷런 실행. 스케일러 호출\n",
    "from sklearn.model_selection import train_test_split # 사이킷런 훈련데이터, 테스트 데이터 분리모듈\n",
    "from sklearn.linear_model import LogisticRegression # 사이킷런 리니어모델 - 로지스틱 회귀"
   ]
  },
  {
   "cell_type": "code",
   "execution_count": null,
   "id": "1598f00e",
   "metadata": {},
   "outputs": [],
   "source": [
    "# 데이터 확인\n",
    "                                                    \n",
    "pd.read_csv()                                        # csv 파일 호출 - 불러오는 속도가 빠름\n",
    "pd.read_csv().set_index(\"w\")()                       # csv 파일 호출, 인덱스를 w로 설정\n",
    "data.head()                                          # 데이터 상위 5개 보기 - 출력량 설정 가능 \n",
    "data.tail()                                          # 데이터 하위 5개 보기 - 출력량 설정 가능\n",
    "data.info()                                          # 데이터 개요 보기, 결측값 확인, 데이터타입 확인\n",
    "data.dropna().info()                                 # 데이터에서 결측값을 제거하고 보여주기\n",
    "data.describe()                                      # 기술통계 출력\n",
    "data.dropna(inplace=True)\n",
    "data.info()                                          # 결측값 제거를 확정하고 데이터 개요보기\n",
    "data.shape                                           # 데이터 모양 보기 (행렬 갯수 보기)\n",
    "data.columns                                         # 열 이름 인덱스 추출\n",
    "data.isnull()                                        # 결측값 여부 확인\n",
    "data.isnull().sum()                                  # 결측값의 총합\n",
    "data.value_counts()                                  # 데이터의 갯수 확인\n",
    "data['x'].median()                                   # 데이터 x의 중위수 확인\n",
    "data['x'].unique()                                   # x 데이터의 고유값 확인\n",
    "data['x'].nunique()                                  # x 데이터 고유값의 갯수 확인"
   ]
  },
  {
   "cell_type": "code",
   "execution_count": null,
   "id": "4740e2db",
   "metadata": {},
   "outputs": [],
   "source": [
    "# 그룹바이 가이드\n",
    "data.groupby('x').groups \n",
    "# x로 데이터를 분류한 다음 x값의 인덱스 정보들을 출력하기\n",
    "\n",
    "data.groupby('x').agg('sum') \n",
    "# x로 데이터를 분류한 다음 다른 열들의 갯수 세기(예 : 성별에 따른 다른 열들의 합)\n",
    "\n",
    "data.groupby('x').agg('sum')[['y','z']]\n",
    "# x로 데이터를 분류한 다음 y와 z의 갯수 세기\n",
    "\n",
    "data.groupby('x').agg('sum')[['y','z']].plot(kind='bar')\n",
    "# x로 데이터를 분류한 다음 y와 z의 갯수를 바 플롯으로 표현하기\n",
    "\n",
    "data.groupby('x').agg('sum')[['y','z']].plot(kind='bar',figsize=(10,5),stacked=True)\n",
    "# x로 데이터를 분류한 다음 y와 z의 갯수를 10,5 크기의 바탕에 바 플롯으로 쌓아서 표현하기\n",
    "\n",
    "data.groupby('x').agg('mean')[['y','z']] \n",
    "# x로 데이터를 분류한 다음 y와 z의 평균 구하기\n",
    "\n",
    "data.groupby(['x'])['y'].median()\n",
    "# x로 데이터를 분류한 다음 x로 분류된 y값의 중위수 구하기\n",
    "\n",
    "for grp, grp_df in data.groupby(['x']): \n",
    "# x로 데이터를 분류한 다음 grp에 x값, grp_df에 x를 제외한 나머지를 할당하기\n"
   ]
  },
  {
   "cell_type": "code",
   "execution_count": null,
   "id": "f1cba867",
   "metadata": {},
   "outputs": [],
   "source": [
    "# 전처리 가이드\n",
    "                                    \n",
    "pd.concat([data1,data2])                # data1,data2를 위아래로 합치기.\n",
    "data.a.map(a_dict)                      # a 딕셔너리 내용으로 데이터 a열의 값들을 변경하기\n",
    "data.drop(['x','y'],axis=1)             # x열과 y열 드랍하기 \n",
    "data.drop(columns=['x'])                # x열 드랍하기\n",
    "train.append(test)                      # 연습데이터와 훈련데이터 병합\n",
    "data[data['x']==1]                      # 데이터 x가 1인 데이터만 그룹화하기(query 함수랑 비슷)\n",
    "data.replace({'x':x_dict},inplace=True) # 데이터의 x값의 내용을 x_dict로 설정하고 바로 적용\n",
    "list(data.x.unique())                   # 데이터 x값의 고유값을 리스트로 만들기\n",
    "pd.qcut(data['x'],5)                    # 데이터를 x값을 기준으로 5분할하여 구간나누기\n",
    "data['x'].astype(int)                   # 데이터 x를 int로 타입변경"
   ]
  },
  {
   "cell_type": "code",
   "execution_count": null,
   "id": "93cab677",
   "metadata": {},
   "outputs": [],
   "source": [
    "# 멀티인덱스\n",
    "pd.crosstab([data['x'],data['y']], data['z'])                  # 크로스테이블. 데이터x,y,z를 멀티인덱스로 하여 표시하기\n",
    "pd.crosstab([data['x'],data['y']], data['z'],margins=True)     # 크로스테이블. 데이터x,y,z , 총합을 나타내기"
   ]
  },
  {
   "cell_type": "code",
   "execution_count": null,
   "id": "ca04564f",
   "metadata": {},
   "outputs": [],
   "source": [
    "import missingno as msno            # 미싱노 임포트\n",
    "msno.bar(data)                      # 데이터를 미싱노 바 그래프로 표시\n",
    "msno.bar(df, color=\"blue\")          # 데이터를 미싱노 파랑바 그래프로 표시"
   ]
  },
  {
   "cell_type": "code",
   "execution_count": null,
   "id": "4624f6ec",
   "metadata": {},
   "outputs": [],
   "source": [
    "# 맷플랏립 가이드 \n",
    "plt.figure(figsize=(8,6))\n",
    "# 도화지 사이즈를 8x6으로 설정\n",
    "\n",
    "plt.hist(data[data['x']==1]['y']) \n",
    "#  데이터 x가 1인 데이터만 그룹화하여 히스토그램으로 표현하기\n",
    "\n",
    "plt.hist([data[data['x']==1]['y'],data[data['x']==0]['y']])\n",
    "# 데이터 x가 0,1인 데이터와 y인 데이터를 각각 히스토그램으로 표현하기\n",
    "\n",
    "plt.hist([data[data['x']==1]['y'],data[data['x']==0]['y']],stacked=True)\n",
    "# 데이터 x가 0,1인 데이터와 y인 데이터를 각각 히스토그램으로 쌓아서 표현하기\n",
    "\n",
    "plt.hist([data[data['x']==1]['y'],data[data['x']==0]['y']],stacked=True,label=['x1','x2'],bins=50)\n",
    "# 데이터 x가 0,1인 데이터와 y인 데이터를 각각 총 50분할로 히스토그램으로 쌓아서 x1,x2이름 붙여서 나타내기.\n",
    "\n",
    "plt.xlabel('x1')\n",
    "plt.ylabel('x2')\n",
    "plt.legend()\n",
    "# 위의 x축을 x1으로 y축을 x2로 설정하여 같이 표현하기.\n",
    "\n",
    "plt.subplots(1,2) \n",
    "# 1행 2열의 칸을 만들기\n",
    "\n",
    "fig, ax = plt.subplots(1,2,figsize=[18,8]) \n",
    "ax[0].set_title('a')\n",
    "ax[1].set_title('b')\n",
    "# 1행 2열의 칸을 만들고 크기는 18x8로 설정하며 1칸의 이름은 a 2칸의 이름은 b로 설정하기\n",
    "\n",
    "plt.xticks(rotation=45) \n",
    "# x인덱스 네임택 회전시키기 "
   ]
  },
  {
   "cell_type": "code",
   "execution_count": null,
   "id": "77961ad6",
   "metadata": {},
   "outputs": [],
   "source": [
    "# 씨본 가이드 \n",
    "sns.countplot(x = 'column',data=data) # 데이터 열 x의 바 플롯 보기\n",
    "sns.countplot(x= 'a', hue='abcd') # x를 a열값으로 설정하고 목차이름을 abcd라고 정의하기"
   ]
  },
  {
   "cell_type": "code",
   "execution_count": null,
   "id": "6086e560",
   "metadata": {},
   "outputs": [],
   "source": [
    "# 정규표현식 가이드\n",
    "df['Name'].str.extract('([A-Za-z]+)\\.') # 이름 중 영어이름을 점 이전까지 출력하기. 호칭출력\n",
    "for name in train['Name']:\n",
    "    titles.add(name.split(\",\")[1].split('.')[0].strip()) # 위랑 같음"
   ]
  },
  {
   "cell_type": "code",
   "execution_count": null,
   "id": "83d07eb4",
   "metadata": {},
   "outputs": [],
   "source": [
    "# 정규화(스케일러) 가이드\n",
    "max(data.x)                                                  # 데이터 x의 최댓값이다.\n",
    "min(data.x)                                                  # 데이터 x의 최솟값이다.\n",
    "data.x = (data.x -min(data.x)) / (max(data.x)-min(data.x))   #데이터x의 정규화\n",
    "from sklearn.preprocessing import MinMaxScaler               # 사이킷런 실행. 스케일러 호출\n",
    "scaler = MinMaxScaler()                                      #스케일러 함수 설정\n",
    "scaler.fit_transform(data[:])                                # 데이터 전체 스케일러"
   ]
  },
  {
   "cell_type": "code",
   "execution_count": null,
   "id": "de57fb65",
   "metadata": {},
   "outputs": [],
   "source": [
    "# 데이터 분할 가이드\n",
    "from sklearn.model_selection import train_test_split # 사이킷런 훈련데이터, 테스트 데이터 분리모듈\n",
    "xtrain, xtest,ytrain, ytest=train_test_split(        # 트레인데이터, 테스트데이터 분리결과\n",
    "    data.drop(['answer'],axis=1),data.answer,        # 정답 데이터 드롭한것이 트레인, 정답 데이터는 답지\n",
    "    test_size=0.2,random_state= 41                   # 테스트용으로는 20%만 사용, 랜덤값은 41로 고정\n",
    "    ,stratify = data.answer)                         # 답지는 층화추출 "
   ]
  },
  {
   "cell_type": "code",
   "execution_count": null,
   "id": "02018755",
   "metadata": {},
   "outputs": [],
   "source": [
    "# 머신러닝 - 로지스틱 회귀 \n",
    "from sklearn.linear_model import LogisticRegression # 사이킷런 리니어모델 - 로지스틱 회귀\n",
    "clf = LogisticRegression()                          # 로지스틱회귀모델 제작\n",
    "clf.fit(xtrain,ytrain)                              # 모델링 절차 - 회귀모델 제작\n",
    "clf.predict(xtest)                                  # 테스트 문제풀이\n"
   ]
  },
  {
   "cell_type": "code",
   "execution_count": null,
   "id": "f593dd29",
   "metadata": {},
   "outputs": [],
   "source": [
    "# 점수체크\n",
    "from sklearn.metrics import accuracy_score, confusion_matrix   # 사이킷런 매트릭스, 점수체크, 혼동행렬\n",
    "accuracy_score(ytest,clf.predict(xtest))                       # 점수체크. 답지, 시험지 순으로 기재\n",
    "confusion_matrix(ytest, clf.predict(xtest))                    # 점수체크 상세표시 \n",
    "#array([[98, 12],              \n",
    "#       [23, 45]], dtype=int64) 다음과 같이 표시됨\n",
    "confusion_matrix(y_true, y_pred) # 더 많은 컨퓨전 매트릭스. \n",
    "# array([[2, 1, 0],\n",
    "#        [1, 1, 1],\n",
    "#        [0, 0, 3]], dtype=int64) # 다음과 같이 출력됨\n",
    "sns.heatmap(confusion_matrix(y_true, y_pred),annot=True,cmap='Blues')\n",
    "plt.xlabel('pred')\n",
    "plt.ylabel('true')"
   ]
  },
  {
   "cell_type": "code",
   "execution_count": null,
   "id": "f2e5f3ed",
   "metadata": {},
   "outputs": [],
   "source": [
    "# 3일차 - KNN기반 알고리즘 만들기 \n",
    "from sklearn.preprocessing import StandardScaler   # 스케일러 호출\n",
    "from sklearn.model_selection import GridSearchCV   # 그리드서치 호출\n",
    "from sklearn.neighbors import KNeighborsClassifier # 최근접 이웃 알고리즘\n"
   ]
  },
  {
   "cell_type": "code",
   "execution_count": null,
   "id": "ea1d9bde",
   "metadata": {},
   "outputs": [],
   "source": [
    "scaler = StandardScaler()                           # 스케일러 설정\n",
    "scaler.fit(xtrain)                                  # 훈련 데이터 스케일링\n",
    "clf = KNeighborsClassifier()                        # KNN 알고리즘 정의하기\n",
    "params ={'n_neighbors':[3,5,7,9,11,13,15,17,19]} \n",
    "gs=GridSearchCV(clf, param_grid=params , cv= 5, scoring='roc_auc')\n",
    "# 파라미터 정의 후"
   ]
  }
 ],
 "metadata": {
  "kernelspec": {
   "display_name": "Python 3 (ipykernel)",
   "language": "python",
   "name": "python3"
  },
  "language_info": {
   "codemirror_mode": {
    "name": "ipython",
    "version": 3
   },
   "file_extension": ".py",
   "mimetype": "text/x-python",
   "name": "python",
   "nbconvert_exporter": "python",
   "pygments_lexer": "ipython3",
   "version": "3.11.4"
  }
 },
 "nbformat": 4,
 "nbformat_minor": 5
}
