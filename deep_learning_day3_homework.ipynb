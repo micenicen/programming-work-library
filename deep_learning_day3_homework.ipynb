{
 "cells": [
  {
   "cell_type": "code",
   "execution_count": 17,
   "id": "18048ab5",
   "metadata": {},
   "outputs": [],
   "source": [
    "from tensorflow.keras.models import Sequential                                    # 모델 불러오기\n",
    "from tensorflow.keras.layers import Dense, Dropout, Flatten, Conv2D, MaxPooling2D # 덴스, 드롭아웃,평탄화, 콘볼루션2d, 풀링2d\n",
    "from tensorflow.keras.callbacks import EarlyStopping, ModelCheckpoint             # 최적위치 저장용\n",
    "from sklearn.model_selection import train_test_split                              # 훈련 / 테스트 데이터 분할용\n",
    "from keras.datasets import fashion_mnist                                          # 패션데이터\n",
    "from tensorflow.keras.utils import to_categorical                                 # 유틸자료 카테고리로 바꾸기\n",
    "\n",
    "import matplotlib.pyplot as plt                                 \n",
    "import seaborn as sns\n",
    "\n",
    "import pandas as pd\n",
    "import numpy as np"
   ]
  },
  {
   "cell_type": "code",
   "execution_count": 3,
   "id": "eb063c46",
   "metadata": {},
   "outputs": [
    {
     "name": "stdout",
     "output_type": "stream",
     "text": [
      "학습셋 이미지 수 : 60000 개\n",
      "테스트셋 이미지 수 : 10000 개\n"
     ]
    }
   ],
   "source": [
    "(trainX, trainy), (testX, testy) = fashion_mnist.load_data()  # 훈련셋, 테스트셋 다운로드. \n",
    "print(\"학습셋 이미지 수 : %d 개\" % (trainX.shape[0]))         # 연습세트 갯수 확인\n",
    "print(\"테스트셋 이미지 수 : %d 개\" % (testX.shape[0]))        # 테스트셋 개수 확인"
   ]
  },
  {
   "cell_type": "code",
   "execution_count": 6,
   "id": "3662f5c3",
   "metadata": {},
   "outputs": [],
   "source": [
    "trainX = trainX.reshape(trainX.shape[0], 784).astype('float32') / 255  # RGB개수만큼 나눠서 정규화\n",
    "testX = testX.reshape(testX.shape[0], 784).astype('float32') / 255     # 위와 동일\n",
    "trainy = to_categorical(trainy, 10)                                    # 유틸형식 연습데이터 카테고리형식 변경\n",
    "testy = to_categorical(testy, 10)                                      # 위와 동일"
   ]
  },
  {
   "cell_type": "code",
   "execution_count": 8,
   "id": "0ffcdaad",
   "metadata": {},
   "outputs": [],
   "source": [
    "model = Sequential()                                               # 모델제작\n",
    "model.add(Dense(256,input_dim=784,activation='relu'))              # 히든레이어1. 784인풋 256아웃풋, 렐루\n",
    "model.add(Dense(10,activation='softmax'))                          # 히든레이어2, 256인풋 10아웃풋, 소프트맥스(답이 범주형이기 때문) \n",
    "model.compile(loss='categorical_crossentropy',                     # 손실함수 : 범주형 교차 엔트로피\n",
    "              optimizer='adam', metrics=['accuracy'])              # 옵티마이저, 아담, 정확도 기준\n",
    "MODEL_DIR = './data/model/'                                        # 모델저장공간\n",
    "modelpath=\"./data/model/MNIST_MLP.hdf5\"                            # 모델저장명\n",
    "checkpointer = ModelCheckpoint(                                    # 모델 체크포인트\n",
    "    filepath=modelpath, monitor='val_loss',                        # 파일경로, 모니터링 기준:val_loss\n",
    "    verbose=1, save_best_only=True)                                # 알림 활성화, 가장 좋은 모델 저장\n",
    "early_stopping_callback = EarlyStopping                            # 얼리스탑기능, \n",
    "(monitor='val_loss', patience=10)                                  # 모니터링 기준:val_loss, 최저점확정 기준 카운트"
   ]
  },
  {
   "cell_type": "code",
   "execution_count": 12,
   "id": "1d1f6be7",
   "metadata": {},
   "outputs": [
    {
     "name": "stdout",
     "output_type": "stream",
     "text": [
      "\n",
      "Epoch 1: val_loss did not improve from 0.32696\n",
      "\n",
      "Epoch 2: val_loss did not improve from 0.32696\n",
      "\n",
      "Epoch 3: val_loss did not improve from 0.32696\n",
      "\n",
      "Epoch 4: val_loss did not improve from 0.32696\n",
      "\n",
      "Epoch 5: val_loss did not improve from 0.32696\n",
      "\n",
      "Epoch 6: val_loss did not improve from 0.32696\n",
      "\n",
      "Epoch 7: val_loss did not improve from 0.32696\n",
      "\n",
      "Epoch 8: val_loss improved from 0.32696 to 0.32528, saving model to ./data/model\\MNIST_MLP.hdf5\n",
      "\n",
      "Epoch 9: val_loss improved from 0.32528 to 0.32511, saving model to ./data/model\\MNIST_MLP.hdf5\n",
      "\n",
      "Epoch 10: val_loss did not improve from 0.32511\n",
      "\n",
      "Epoch 11: val_loss did not improve from 0.32511\n",
      "\n",
      "Epoch 12: val_loss did not improve from 0.32511\n",
      "\n",
      "Epoch 13: val_loss did not improve from 0.32511\n",
      "\n",
      "Epoch 14: val_loss did not improve from 0.32511\n",
      "\n",
      "Epoch 15: val_loss did not improve from 0.32511\n",
      "\n",
      "Epoch 16: val_loss improved from 0.32511 to 0.32494, saving model to ./data/model\\MNIST_MLP.hdf5\n",
      "\n",
      "Epoch 17: val_loss improved from 0.32494 to 0.32455, saving model to ./data/model\\MNIST_MLP.hdf5\n",
      "\n",
      "Epoch 18: val_loss did not improve from 0.32455\n",
      "\n",
      "Epoch 19: val_loss did not improve from 0.32455\n",
      "\n",
      "Epoch 20: val_loss improved from 0.32455 to 0.32431, saving model to ./data/model\\MNIST_MLP.hdf5\n",
      "\n",
      "Epoch 21: val_loss did not improve from 0.32431\n",
      "\n",
      "Epoch 22: val_loss did not improve from 0.32431\n",
      "\n",
      "Epoch 23: val_loss improved from 0.32431 to 0.32428, saving model to ./data/model\\MNIST_MLP.hdf5\n",
      "\n",
      "Epoch 24: val_loss improved from 0.32428 to 0.32397, saving model to ./data/model\\MNIST_MLP.hdf5\n",
      "\n",
      "Epoch 25: val_loss did not improve from 0.32397\n",
      "\n",
      "Epoch 26: val_loss improved from 0.32397 to 0.32393, saving model to ./data/model\\MNIST_MLP.hdf5\n",
      "\n",
      "Epoch 27: val_loss did not improve from 0.32393\n",
      "\n",
      "Epoch 28: val_loss did not improve from 0.32393\n",
      "\n",
      "Epoch 29: val_loss did not improve from 0.32393\n",
      "\n",
      "Epoch 30: val_loss did not improve from 0.32393\n",
      "\n",
      "Epoch 31: val_loss did not improve from 0.32393\n",
      "\n",
      "Epoch 32: val_loss did not improve from 0.32393\n",
      "\n",
      "Epoch 33: val_loss did not improve from 0.32393\n",
      "\n",
      "Epoch 34: val_loss did not improve from 0.32393\n",
      "\n",
      "Epoch 35: val_loss did not improve from 0.32393\n",
      "\n",
      "Epoch 36: val_loss did not improve from 0.32393\n"
     ]
    }
   ],
   "source": [
    "history = model.fit(\n",
    "    trainX, trainy, validation_split=0.25,               # 연습데이터 모델링. 훈련데이터 나누기 0.25\n",
    "    epochs=300, batch_size=200, verbose=0,               # 반복횟수 300, 확인사이즈 200, 알림 비활성\n",
    "    callbacks=[early_stopping_callback,checkpointer])    # 콜백함수, 얼리스탑, 모델저장"
   ]
  },
  {
   "cell_type": "code",
   "execution_count": 14,
   "id": "afd161ba",
   "metadata": {},
   "outputs": [
    {
     "name": "stdout",
     "output_type": "stream",
     "text": [
      "313/313 [==============================] - 0s 1ms/step - loss: 0.3485 - accuracy: 0.8765\n",
      "\n",
      " Test Accuracy: 0.8765\n"
     ]
    }
   ],
   "source": [
    "print(\"\\n Test Accuracy: %.4f\" % (model.evaluate(testX, testy)[1])) # 정확도 결과 출력"
   ]
  },
  {
   "cell_type": "code",
   "execution_count": 23,
   "id": "61a5461f",
   "metadata": {},
   "outputs": [],
   "source": [
    "(trainX, trainy), (testX, testy) = fashion_mnist.load_data()\n",
    "trainX = trainX.reshape(trainX.shape[0], 28, 28,1).astype('float32') / 255 \n",
    "testX = testX.reshape(testX.shape[0], 28, 28,1).astype('float32') / 255    \n",
    "trainy = to_categorical(trainy)\n",
    "testy = to_categorical(testy)"
   ]
  },
  {
   "cell_type": "code",
   "execution_count": 24,
   "id": "a034feac",
   "metadata": {},
   "outputs": [],
   "source": [
    "model = Sequential()\n",
    "model.add(Conv2D(32, kernel_size=(3, 3), input_shape=(28, 28, 1), activation='relu')) # 필터갯수, 필터크기, 투입사진, 작동방식\n",
    "model.add(Conv2D(64, (3, 3), activation='relu'))      # 필터갯수, 필터크기(생략되었다), 작동방식\n",
    "model.add(MaxPooling2D(pool_size=(2,2)))              # 풀링하기.2,2사이즈로 만들기\n",
    "model.add(Dropout(0.25))                              # 25%를 드롭아웃한 상태에서 진행\n",
    "model.add(Flatten())                                  # 플래튼이 일어난 다음에 히든계층으로 간다. \n",
    "model.add(Dense(128,  activation='relu'))             # 128차원짜리 층으로 나눔\n",
    "model.add(Dropout(0.5))                               # 50% 드롭\n",
    "model.add(Dense(10, activation='softmax'))            # 소프트맥스로 결과값 출력"
   ]
  },
  {
   "cell_type": "code",
   "execution_count": 25,
   "id": "d43a2069",
   "metadata": {},
   "outputs": [],
   "source": [
    "model.compile(loss='categorical_crossentropy',        \n",
    "              optimizer='adam',\n",
    "              metrics=['accuracy'])\n",
    "modelpath=\"./data/model/MNIST_CNN.hdf5\"\n",
    "checkpointer = ModelCheckpoint(filepath=modelpath, monitor='val_loss', verbose=1, save_best_only=True)\n",
    "early_stopping_callback = EarlyStopping(monitor='val_loss', patience=10)"
   ]
  },
  {
   "cell_type": "code",
   "execution_count": 26,
   "id": "b840fdcd",
   "metadata": {},
   "outputs": [
    {
     "name": "stdout",
     "output_type": "stream",
     "text": [
      "\n",
      "Epoch 1: val_loss improved from inf to 0.36587, saving model to ./data/model\\MNIST_CNN.hdf5\n",
      "\n",
      "Epoch 2: val_loss improved from 0.36587 to 0.30800, saving model to ./data/model\\MNIST_CNN.hdf5\n",
      "\n",
      "Epoch 3: val_loss improved from 0.30800 to 0.27243, saving model to ./data/model\\MNIST_CNN.hdf5\n",
      "\n",
      "Epoch 4: val_loss improved from 0.27243 to 0.25394, saving model to ./data/model\\MNIST_CNN.hdf5\n",
      "\n",
      "Epoch 5: val_loss improved from 0.25394 to 0.23819, saving model to ./data/model\\MNIST_CNN.hdf5\n",
      "\n",
      "Epoch 6: val_loss improved from 0.23819 to 0.23615, saving model to ./data/model\\MNIST_CNN.hdf5\n",
      "\n",
      "Epoch 7: val_loss improved from 0.23615 to 0.23492, saving model to ./data/model\\MNIST_CNN.hdf5\n",
      "\n",
      "Epoch 8: val_loss improved from 0.23492 to 0.22214, saving model to ./data/model\\MNIST_CNN.hdf5\n",
      "\n",
      "Epoch 9: val_loss improved from 0.22214 to 0.21280, saving model to ./data/model\\MNIST_CNN.hdf5\n",
      "\n",
      "Epoch 10: val_loss did not improve from 0.21280\n",
      "\n",
      "Epoch 11: val_loss did not improve from 0.21280\n",
      "\n",
      "Epoch 12: val_loss improved from 0.21280 to 0.20941, saving model to ./data/model\\MNIST_CNN.hdf5\n",
      "\n",
      "Epoch 13: val_loss did not improve from 0.20941\n",
      "\n",
      "Epoch 14: val_loss did not improve from 0.20941\n",
      "\n",
      "Epoch 15: val_loss did not improve from 0.20941\n",
      "\n",
      "Epoch 16: val_loss did not improve from 0.20941\n",
      "\n",
      "Epoch 17: val_loss did not improve from 0.20941\n",
      "\n",
      "Epoch 18: val_loss did not improve from 0.20941\n",
      "\n",
      "Epoch 19: val_loss did not improve from 0.20941\n",
      "\n",
      "Epoch 20: val_loss did not improve from 0.20941\n",
      "\n",
      "Epoch 21: val_loss did not improve from 0.20941\n",
      "\n",
      "Epoch 22: val_loss did not improve from 0.20941\n"
     ]
    }
   ],
   "source": [
    "history = model.fit(trainX, trainy, validation_split=0.25, epochs=30, batch_size=200, verbose=0, callbacks=[early_stopping_callback,checkpointer])"
   ]
  },
  {
   "cell_type": "code",
   "execution_count": 22,
   "id": "271c6765",
   "metadata": {},
   "outputs": [
    {
     "name": "stdout",
     "output_type": "stream",
     "text": [
      "313/313 [==============================] - 1s 4ms/step - loss: 0.2576 - accuracy: 0.9235\n",
      "\n",
      " Test Accuracy: 0.9235\n"
     ]
    }
   ],
   "source": [
    "print(\"\\n Test Accuracy: %.4f\" % (model.evaluate(testX, testy)[1]))"
   ]
  },
  {
   "cell_type": "code",
   "execution_count": null,
   "id": "74bd5910",
   "metadata": {},
   "outputs": [],
   "source": []
  }
 ],
 "metadata": {
  "kernelspec": {
   "display_name": "Python 3 (ipykernel)",
   "language": "python",
   "name": "python3"
  },
  "language_info": {
   "codemirror_mode": {
    "name": "ipython",
    "version": 3
   },
   "file_extension": ".py",
   "mimetype": "text/x-python",
   "name": "python",
   "nbconvert_exporter": "python",
   "pygments_lexer": "ipython3",
   "version": "3.11.4"
  }
 },
 "nbformat": 4,
 "nbformat_minor": 5
}
