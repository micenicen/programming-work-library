{
 "cells": [
  {
   "cell_type": "code",
   "execution_count": null,
   "id": "6125567b",
   "metadata": {},
   "outputs": [],
   "source": [
    "# 넘파이 기초\n",
    "# 넘파이는 누적합을 구할 때 유용하다. \n",
    "arr = np.array([[0, 1, 0], [1, 2, -2], [6, 3, 2],   # 넘파이 배열 정의\n",
    "                [-1, 0, -1], [1, 0, 1]])\n",
    "print(arr.T)                                        # 넘파이 배열 회전(행/열 변환, 일명 전치행렬)\n",
    "print(np.dot(arr,arr.T))                            # 넘파이 곱셈(arr과 arr전치행렬 사이의 곱셈)\n",
    "print(arr@ arr.T)                                   # 넘파이 배열곱셈\n",
    "print(np.random.randint(1,11,6))                    # 넘파이 난수 추출 1부터 10사이 6개숫자\n",
    "print(np.random.randint(1, 11, size=(3,2)))         # 넘파이 난수 추출 1부터 10사이 3행 2열\n",
    "print(np.random.standard_normal(size=(4,4)))        # 넘파이에 표준정규분포 4*4배열로 출력하기\n",
    "print(arr.mean())                                   # 샘플 평균\n",
    "print(np.mean(arr))                                 # 샘플 평균\n",
    "print(np.sum(arr))                                  # 배열 전부 더하기\n",
    "print(arr.sum())                                    # 배열 전부 더하기\n",
    "print(arr.cumsum())                                 # 누적합\n",
    "np.std(samples)                                     # 샘플 표준편차\n",
    "np.where(True,\"참\",\"거짓\")                          # 조건 , 참일경우, 거짓일 경우\n",
    "arr = np.arange(10,16).reshape(3,2)                 # 10에서 15까지 3행 2열로 재정렬\n",
    "arr.cumsum(axis=0)                                  # 열단위로 누적합\n",
    "arr.cumsum(axis=1)                                  # 행단위로 누적합\n",
    "print(arr[0])                                       # 행 출력하기\n",
    "print(arr[[1,0,2]])                                 # 열 출력하기(대괄호 2개)\n",
    "brr.sort(axis=0)                                    # 열단위 오름차순\n",
    "brr.sort(axis=1)                                    # 행단위 오름차순\n",
    "print(np.unique(names))                             # 데이터 중복제거 (세트 자료위치값X 이건 자료위치값0)\n",
    "np.random.rand(3)                                   # 0에서 1까지 3개의 난수 출력 \n"
   ]
  },
  {
   "cell_type": "code",
   "execution_count": null,
   "id": "92be0cb6",
   "metadata": {},
   "outputs": [],
   "source": [
    "# 기타 기술\n",
    "xarr = np.array([1.1, 1.2, 1.3, 1.4, 1.5])\n",
    "yarr = np.array([2.1, 2.2, 2.3, 2.4, 2.5])\n",
    "cond = np.array([True, False, True, True, False])\n",
    "\n",
    "print((xarr * cond) + (yarr * ~cond))                       # 덧셈 : 요소끼리 덧셈하기 true면 곱한것에 false만 곱함\n",
    "print([(x if c else y)for x, y ,c in zip(xarr, yarr, cond)])# 같은 결과\n"
   ]
  },
  {
   "cell_type": "code",
   "execution_count": null,
   "id": "4dea16e4",
   "metadata": {},
   "outputs": [],
   "source": [
    "# 판다스\n",
    "df = pd.DataFrame(data)                             # 데이터프레임 정의\n",
    "pd.to_datetime(df['time'])                          # 데이터프레임 time열의 내용 datetime형식으로 바꾸기\n",
    "np.where(df['수량']<5, \"적정\", \"초과\")              # 데이터프레임에 넘파이 where사용 가능"
   ]
  }
 ],
 "metadata": {
  "kernelspec": {
   "display_name": "Python 3 (ipykernel)",
   "language": "python",
   "name": "python3"
  },
  "language_info": {
   "codemirror_mode": {
    "name": "ipython",
    "version": 3
   },
   "file_extension": ".py",
   "mimetype": "text/x-python",
   "name": "python",
   "nbconvert_exporter": "python",
   "pygments_lexer": "ipython3",
   "version": "3.11.4"
  }
 },
 "nbformat": 4,
 "nbformat_minor": 5
}
