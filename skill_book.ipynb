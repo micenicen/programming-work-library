{
 "cells": [
  {
   "cell_type": "code",
   "execution_count": null,
   "id": "4bae6fa5",
   "metadata": {},
   "outputs": [],
   "source": [
    "# 데이터 전처리 1단계 - 데이터 확인\n",
    "data.info()\n",
    "data.describe()\n",
    "data.isna().sum()"
   ]
  },
  {
   "cell_type": "code",
   "execution_count": null,
   "id": "8660e04f",
   "metadata": {},
   "outputs": [],
   "source": [
    "# 데이터 전처리 2단계 - 데이터 변경\n",
    "data['v1'] = data['v1'].replace(['ham','spam'],[0,1]) \n",
    "data.drop_duplicates(subset=['v2'], inplace=True)         # v2를 기준하여 중복되는 요소 제거"
   ]
  },
  {
   "cell_type": "code",
   "execution_count": null,
   "id": "fa06aa31",
   "metadata": {},
   "outputs": [],
   "source": [
    "# 데이터 전처리 3단계 - 데이터 분리\n",
    "X_train, X_test, y_train, y_test = train_test_split(X_data, y_data, test_size=0.2, random_state=0, stratify=y_data)"
   ]
  },
  {
   "cell_type": "code",
   "execution_count": null,
   "id": "bb411f7b",
   "metadata": {},
   "outputs": [],
   "source": [
    "# 기타. 확인기\n",
    "print('v2열의 유니크한 값 :',data['v2'].nunique())\n",
    "print('메일의 최대 길이 : %d' % max(len(sample) for sample in X_train_encoded))\n",
    "print('메일의 평균 길이 : %f' % (sum(map(len, X_train_encoded))/len(X_train_encoded)))\n",
    "print(\"\\n 테스트 정확도: %.4f\" % (model.evaluate(X_test_padded, y_test)[1]))"
   ]
  },
  {
   "cell_type": "code",
   "execution_count": null,
   "id": "4468566b",
   "metadata": {},
   "outputs": [],
   "source": [
    "# 시드 고정하는 함수\n",
    "def seed_everything(seed):\n",
    "    random.seed(seed)\n",
    "    os.environ['PYTHONHASHSEED'] = str(seed)\n",
    "    np.random.seed(seed)\n",
    "seed_everything(42) # Seed 고정"
   ]
  }
 ],
 "metadata": {
  "kernelspec": {
   "display_name": "Python 3 (ipykernel)",
   "language": "python",
   "name": "python3"
  },
  "language_info": {
   "codemirror_mode": {
    "name": "ipython",
    "version": 3
   },
   "file_extension": ".py",
   "mimetype": "text/x-python",
   "name": "python",
   "nbconvert_exporter": "python",
   "pygments_lexer": "ipython3",
   "version": "3.11.5"
  }
 },
 "nbformat": 4,
 "nbformat_minor": 5
}
